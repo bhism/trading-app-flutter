{
 "cells": [
  {
   "cell_type": "code",
   "execution_count": null,
   "metadata": {},
   "outputs": [],
   "source": [
    "import urllib.parse\n",
    "import pandas as pd\n",
    "import requests"
   ]
  },
  {
   "cell_type": "code",
   "execution_count": null,
   "metadata": {},
   "outputs": [],
   "source": [
    "apiKey = \"apiKey\"\n",
    "secretKey = \"secretKey\"\n",
    "rurl = urllib.parse.quote(\"https://127.0.0.1:5000/\" , safe = \"\")"
   ]
  },
  {
   "cell_type": "code",
   "execution_count": null,
   "metadata": {},
   "outputs": [],
   "source": [
    "uri = f'https://api-v2.upstox.com/login/authorization/dialog?response_type=code&client_id={apiKey}&redirect_uri={rurl}'\n",
    "uri"
   ]
  },
  {
   "cell_type": "code",
   "execution_count": null,
   "metadata": {},
   "outputs": [],
   "source": [
    "code = \"code\""
   ]
  },
  {
   "cell_type": "code",
   "execution_count": null,
   "metadata": {},
   "outputs": [],
   "source": [
    "url = \"https://api-v2.upstox.com/login/authorization/token\"\n",
    "\n",
    "headers = {\n",
    "    \"accept\" : \"application/json\",\n",
    "    \"Api-Version\" : \"2.0\",\n",
    "    \"Content-Type\" : \"application/x-www-form-urlencoded\"\n",
    "}\n",
    "\n",
    "data = {\n",
    "    \"client_id\" : apiKey,\n",
    "    \"code\" : code,\n",
    "    \"client_secret\" : secretKey,\n",
    "    \"redirect_uri\" : \"https://127.0.0.1:5000/\",\n",
    "    \"grant_type\" : \"authorization_code\"\n",
    "}\n",
    "\n",
    "response = requests.post(url , headers = headers , data = data)\n",
    "json_reponse = response.json()"
   ]
  },
  {
   "cell_type": "code",
   "execution_count": null,
   "metadata": {},
   "outputs": [],
   "source": [
    "json_reponse['access_token']"
   ]
  },
  {
   "cell_type": "code",
   "execution_count": null,
   "metadata": {},
   "outputs": [],
   "source": []
  }
 ],
 "metadata": {
  "language_info": {
   "name": "python"
  }
 },
 "nbformat": 4,
 "nbformat_minor": 2
}
